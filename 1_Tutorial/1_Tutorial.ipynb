{
 "cells": [
  {
   "cell_type": "markdown",
   "id": "8e457ca0",
   "metadata": {},
   "source": [
    "# Classes vs. Objects (Python OOP)\n",
    "***"
   ]
  },
  {
   "cell_type": "markdown",
   "id": "1697a064",
   "metadata": {},
   "source": [
    "### Keywords\n",
    "\n",
    " - Classes ~ Blueprint/Template (does not allocate memory, only serves as code by which to define Objects)\n",
    "\n",
    " - Objects ~ Instantiation of a Class (allocates memory when called as an implementation of Class)\n",
    "\n",
    " - Properties ~ Variables\n",
    "\n",
    " - Method ~ Functions\n",
    "\n",
    " - Constructor ~ Special Function to Initialize Objects\n",
    "\n",
    " - Inheritance ~ Derive Methods & Properties from other Classes\n",
    "\n",
    " - self/this keyword ~ Keyword variable used to refer to the current class within the scope of that class\n",
    "\n",
    " - Access Modifiers ~ Public, Private _, Protected __\n",
    " \n",
    " ***"
   ]
  },
  {
   "cell_type": "code",
   "execution_count": 2,
   "id": "4a42c590",
   "metadata": {},
   "outputs": [],
   "source": [
    "Person1_name = \"Bob\"\n",
    "Person1_surname = \"Dylan\"\n",
    "\n",
    "Person2_name = \"Rob\"\n",
    "Person2_surname = \"Zombie\"\n",
    "\n",
    "Person3_name = \"Joe\"\n",
    "Person3_surname = \"Rogan\"\n",
    "\n",
    "Person4_name = \"Francois\"\n",
    "Person4_surname = \"Wessels\""
   ]
  },
  {
   "cell_type": "code",
   "execution_count": 12,
   "id": "6e4bd932",
   "metadata": {},
   "outputs": [],
   "source": [
    "class Person:\n",
    "    \n",
    "    def __init__(self, Name, Surname):\n",
    "        self.name = Name\n",
    "        self.surname = Surname\n",
    "    \n",
    "    def _getName(self):\n",
    "        return self.name\n",
    "    \n",
    "    def _getSurname(self):\n",
    "        return self.surname\n",
    "    \n",
    "    def getFullName(self):\n",
    "        return self.name"
   ]
  },
  {
   "cell_type": "code",
   "execution_count": 15,
   "id": "c118373e",
   "metadata": {},
   "outputs": [],
   "source": [
    "person1 = Person(\"Bob\", \"Dylan\")\n",
    "person2 = Person(\"Rob\", \"Zombie\")\n",
    "person3 = Person(\"Bob\", \"Zombie\")"
   ]
  },
  {
   "cell_type": "code",
   "execution_count": 16,
   "id": "213ab70c",
   "metadata": {},
   "outputs": [
    {
     "name": "stdout",
     "output_type": "stream",
     "text": [
      "Bob\n",
      "Rob\n",
      "Bob\n"
     ]
    }
   ],
   "source": [
    "print(person1.getFullName())\n",
    "\n",
    "print(person2.getFullName())\n",
    "\n",
    "print(person3.getFullName())"
   ]
  },
  {
   "cell_type": "code",
   "execution_count": 6,
   "id": "6aec041b",
   "metadata": {},
   "outputs": [],
   "source": [
    "class Child(Person):\n",
    "    pass"
   ]
  },
  {
   "cell_type": "code",
   "execution_count": 7,
   "id": "62c3746f",
   "metadata": {},
   "outputs": [],
   "source": [
    "child1 = Child(\"Madonna\", \"Madonna\")\n",
    "child2 = Child(\"Rob\", \"Cummings\")\n",
    "child3 = Child(\"Lola\", \"Rogan\")"
   ]
  },
  {
   "cell_type": "code",
   "execution_count": 8,
   "id": "cbee9155",
   "metadata": {},
   "outputs": [
    {
     "name": "stdout",
     "output_type": "stream",
     "text": [
      "Madonna\n",
      "Madonna\n",
      "Rob\n",
      "Cummings\n",
      "Lola\n",
      "Rogan\n"
     ]
    }
   ],
   "source": [
    "print(child1.getName())\n",
    "print(child1.getSurname())\n",
    "\n",
    "print(child2.getName())\n",
    "print(child2.getSurname())\n",
    "\n",
    "print(child3.getName())\n",
    "print(child3.getSurname())"
   ]
  },
  {
   "cell_type": "code",
   "execution_count": null,
   "id": "d56b2045",
   "metadata": {},
   "outputs": [],
   "source": []
  }
 ],
 "metadata": {
  "kernelspec": {
   "display_name": "Python 3 (ipykernel)",
   "language": "python",
   "name": "python3"
  },
  "language_info": {
   "codemirror_mode": {
    "name": "ipython",
    "version": 3
   },
   "file_extension": ".py",
   "mimetype": "text/x-python",
   "name": "python",
   "nbconvert_exporter": "python",
   "pygments_lexer": "ipython3",
   "version": "3.10.8"
  }
 },
 "nbformat": 4,
 "nbformat_minor": 5
}
